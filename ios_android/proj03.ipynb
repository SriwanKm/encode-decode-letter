{
 "cells": [
  {
   "cell_type": "markdown",
   "metadata": {
    "collapsed": true,
    "pycharm": {
     "name": "#%% md\n"
    }
   },
   "source": [
    "Sriwan Khaomuang\n",
    "\n",
    "Project 3\n",
    "\n",
    "This project is to analyzed data about the App Store and Google Play mobile apps with the goal of recommending an app profile that can be profitable for both markets."
   ]
  },
  {
   "cell_type": "code",
   "execution_count": 1,
   "outputs": [],
   "source": [
    "from csv import reader\n",
    "\n",
    "opened_file = open('GooglePlayStore2018.csv')\n",
    "read_file = reader(opened_file)\n",
    "android = list(read_file)\n",
    "android_header = android[0]\n",
    "android = android[1:]"
   ],
   "metadata": {
    "collapsed": false,
    "pycharm": {
     "name": "#%%\n"
    }
   }
  },
  {
   "cell_type": "code",
   "execution_count": 2,
   "outputs": [],
   "source": [
    "opened_file = open('AppleStore2017.csv')\n",
    "read_file = reader(opened_file)\n",
    "ios = list(read_file)\n",
    "ios_header = ios[0]\n",
    "ios = ios[1:]"
   ],
   "metadata": {
    "collapsed": false,
    "pycharm": {
     "name": "#%%\n"
    }
   }
  },
  {
   "cell_type": "code",
   "execution_count": 3,
   "outputs": [],
   "source": [
    "def explore_data(dataset, start, end, rows_and_columns=False):\n",
    "    dataset_slice = dataset[start:end]\n",
    "    for row in dataset_slice:\n",
    "        print(row)\n",
    "        print('\\n')\n",
    "    if rows_and_columns:\n",
    "        print('Number of rows:', len(dataset))\n",
    "        print('Number of columns:', len(dataset[0]))"
   ],
   "metadata": {
    "collapsed": false,
    "pycharm": {
     "name": "#%%\n"
    }
   }
  },
  {
   "cell_type": "markdown",
   "source": [
    "EXPLORE ANDROID DATASET"
   ],
   "metadata": {
    "collapsed": false,
    "pycharm": {
     "name": "#%% md\n"
    }
   }
  },
  {
   "cell_type": "code",
   "execution_count": 4,
   "outputs": [
    {
     "name": "stdout",
     "output_type": "stream",
     "text": [
      "['App', 'Category', 'Rating', 'Reviews', 'Size', 'Installs', 'Type', 'Price', 'Content Rating', 'Genres', 'Last Updated', 'Current Ver', 'Android Ver']\n",
      "\n",
      "\n",
      "['Photo Editor & Candy Camera & Grid & ScrapBook', 'ART_AND_DESIGN', '4.1', '159', '19M', '10,000+', 'Free', '0', 'Everyone', 'Art & Design', '7-Jan-18', '1.0.0', '4.0.3 and up']\n",
      "\n",
      "\n",
      "['Coloring book moana', 'ART_AND_DESIGN', '3.9', '967', '14M', '500,000+', 'Free', '0', 'Everyone', 'Art & Design;Pretend Play', '15-Jan-18', '2.0.0', '4.0.3 and up']\n",
      "\n",
      "\n",
      "['U Launcher Lite – FREE Live Cool Themes, Hide Apps', 'ART_AND_DESIGN', '4.7', '87510', '8.7M', '5,000,000+', 'Free', '0', 'Everyone', 'Art & Design', '1-Aug-18', '1.2.4', '4.0.3 and up']\n",
      "\n",
      "\n",
      "Number of rows: 10841\n",
      "Number of columns: 13\n"
     ]
    }
   ],
   "source": [
    "print(android_header)\n",
    "print('\\n')\n",
    "explore_data(android, 0, 3, True)"
   ],
   "metadata": {
    "collapsed": false,
    "pycharm": {
     "name": "#%%\n"
    }
   }
  },
  {
   "cell_type": "markdown",
   "source": [
    "EXPLORE IOS DATASET"
   ],
   "metadata": {
    "collapsed": false,
    "pycharm": {
     "name": "#%% md\n"
    }
   }
  },
  {
   "cell_type": "code",
   "execution_count": 5,
   "outputs": [
    {
     "name": "stdout",
     "output_type": "stream",
     "text": [
      "['id', 'track_name', 'size_bytes', 'currency', 'price', 'rating_count_tot', 'rating_count_ver', 'user_rating', 'user_rating_ver', 'ver', 'cont_rating', 'prime_genre', 'sup_devices.num', 'ipadSc_urls.num', 'lang.num', 'vpp_lic']\n",
      "\n",
      "\n",
      "['284882215', 'Facebook', '389879808', 'USD', '0', '2974676', '212', '3.5', '3.5', '95', '4+', 'Social Networking', '37', '1', '29', '1']\n",
      "\n",
      "\n",
      "['389801252', 'Instagram', '113954816', 'USD', '0', '2161558', '1289', '4.5', '4', '10.23', '12+', 'Photo & Video', '37', '0', '29', '1']\n",
      "\n",
      "\n",
      "['529479190', 'Clash of Clans', '116476928', 'USD', '0', '2130805', '579', '4.5', '4.5', '9.24.12', '9+', 'Games', '38', '5', '18', '1']\n",
      "\n",
      "\n",
      "Number of rows: 7197\n",
      "Number of columns: 16\n"
     ]
    }
   ],
   "source": [
    "print(ios_header)\n",
    "print('\\n')\n",
    "explore_data(ios, 0, 3, True)"
   ],
   "metadata": {
    "collapsed": false,
    "pycharm": {
     "name": "#%%\n"
    }
   }
  },
  {
   "cell_type": "markdown",
   "source": [
    "CHECK IF ALL THE APP HAVE RATING BETWEEN 0-5"
   ],
   "metadata": {
    "collapsed": false,
    "pycharm": {
     "name": "#%% md\n"
    }
   }
  },
  {
   "cell_type": "code",
   "execution_count": 6,
   "outputs": [
    {
     "name": "stdout",
     "output_type": "stream",
     "text": [
      "['Life Made WI-Fi Touchscreen Photo Frame', '1.9', '19', '3.0M', '1,000+', 'Free', '0', 'Everyone', '', '11-Feb-18', '1.0.19', '4.0 and up', '']\n"
     ]
    }
   ],
   "source": [
    "for app in android:\n",
    "    rating = app[2]\n",
    "    if float(rating) < 0 or float(rating) > 5:\n",
    "        print(app)"
   ],
   "metadata": {
    "collapsed": false,
    "pycharm": {
     "name": "#%%\n"
    }
   }
  },
  {
   "cell_type": "markdown",
   "source": [
    "From the discussion section there's a wrong rating in row 10472, so delete that app"
   ],
   "metadata": {
    "collapsed": false,
    "pycharm": {
     "name": "#%% md\n"
    }
   }
  },
  {
   "cell_type": "code",
   "execution_count": 7,
   "outputs": [
    {
     "name": "stdout",
     "output_type": "stream",
     "text": [
      "Total android app: 10840\n"
     ]
    }
   ],
   "source": [
    "del(android[10472])\n",
    "print('Total android app:', len(android))"
   ],
   "metadata": {
    "collapsed": false,
    "pycharm": {
     "name": "#%%\n"
    }
   }
  },
  {
   "cell_type": "markdown",
   "source": [
    "GET UNIQUE AND DUPLICATE ANDROID APPS"
   ],
   "metadata": {
    "collapsed": false
   }
  },
  {
   "cell_type": "code",
   "execution_count": 8,
   "outputs": [
    {
     "name": "stdout",
     "output_type": "stream",
     "text": [
      "Number of duplicate apps: 1181\n",
      "\n",
      "\n",
      "Examples of duplicate apps: ['Quick PDF Scanner + OCR FREE', 'Box', 'Google My Business', 'ZOOM Cloud Meetings', 'join.me - Simple Meetings']\n"
     ]
    }
   ],
   "source": [
    "duplicate_apps = []\n",
    "unique_apps = []\n",
    "\n",
    "for app in android:\n",
    "    name = app[0]\n",
    "    if name in unique_apps:\n",
    "        duplicate_apps.append(name)\n",
    "    else:\n",
    "        unique_apps.append(name)\n",
    "\n",
    "print('Number of duplicate apps:', len(duplicate_apps))\n",
    "print('\\n')\n",
    "print('Examples of duplicate apps:', duplicate_apps[:5])"
   ],
   "metadata": {
    "collapsed": false,
    "pycharm": {
     "name": "#%%\n"
    }
   }
  },
  {
   "cell_type": "code",
   "execution_count": 40,
   "outputs": [
    {
     "name": "stdout",
     "output_type": "stream",
     "text": [
      "Expected length android: 9659\n"
     ]
    }
   ],
   "source": [
    "print('Expected length android:', len(android) - 1181)"
   ],
   "metadata": {
    "collapsed": false,
    "pycharm": {
     "name": "#%%\n"
    }
   }
  },
  {
   "cell_type": "markdown",
   "source": [
    "GET UNIQUE AND DUPLICATE IOS APPS"
   ],
   "metadata": {
    "collapsed": false,
    "pycharm": {
     "name": "#%% md\n"
    }
   }
  },
  {
   "cell_type": "code",
   "execution_count": 41,
   "outputs": [
    {
     "name": "stdout",
     "output_type": "stream",
     "text": [
      "Number of duplicate ios apps: 2\n",
      "\n",
      "\n",
      "Examples of duplicate ios apps: ['Mannequin Challenge', 'VR Roller Coaster']\n"
     ]
    }
   ],
   "source": [
    "duplicate_ios_apps = []\n",
    "unique_ios_apps = []\n",
    "\n",
    "for app in ios:\n",
    "    name = app[1]\n",
    "    if name in unique_ios_apps:\n",
    "        duplicate_ios_apps.append(name)\n",
    "    else:\n",
    "        unique_ios_apps.append(name)\n",
    "\n",
    "print('Number of duplicate ios apps:', len(duplicate_ios_apps))\n",
    "print('\\n')\n",
    "print('Examples of duplicate ios apps:', duplicate_ios_apps[:5])"
   ],
   "metadata": {
    "collapsed": false,
    "pycharm": {
     "name": "#%%\n"
    }
   }
  },
  {
   "cell_type": "code",
   "execution_count": 39,
   "outputs": [
    {
     "name": "stdout",
     "output_type": "stream",
     "text": [
      "Expected length: 7195\n"
     ]
    }
   ],
   "source": [
    "print('Expected length ios:', len(ios) - 2)"
   ],
   "metadata": {
    "collapsed": false,
    "pycharm": {
     "name": "#%%\n"
    }
   }
  },
  {
   "cell_type": "markdown",
   "source": [
    "GET ONLY THE HIGHEST REVIEW ANDROID APP"
   ],
   "metadata": {
    "collapsed": false,
    "pycharm": {
     "name": "#%% md\n"
    }
   }
  },
  {
   "cell_type": "code",
   "execution_count": 42,
   "outputs": [],
   "source": [
    "reviews_max = {}\n",
    "for app in android:\n",
    "    name = app[0]\n",
    "    n_reviews = float(app[3])\n",
    "\n",
    "    if name in reviews_max and reviews_max[name] < n_reviews:\n",
    "        reviews_max[name] = n_reviews\n",
    "\n",
    "    elif name not in reviews_max:\n",
    "        reviews_max[name] = n_reviews"
   ],
   "metadata": {
    "collapsed": false,
    "pycharm": {
     "name": "#%%\n"
    }
   }
  },
  {
   "cell_type": "code",
   "execution_count": 43,
   "outputs": [
    {
     "name": "stdout",
     "output_type": "stream",
     "text": [
      "Expected length: 9659\n",
      "Actual length: 9659\n"
     ]
    }
   ],
   "source": [
    "print('Expected length:', len(android) - 1181)\n",
    "print('Actual length:', len(reviews_max))"
   ],
   "metadata": {
    "collapsed": false,
    "pycharm": {
     "name": "#%%\n"
    }
   }
  },
  {
   "cell_type": "markdown",
   "source": [
    "USE DICTIONARY TO REMOVE DUPLICATE APP"
   ],
   "metadata": {
    "collapsed": false,
    "pycharm": {
     "name": "#%% md\n"
    }
   }
  },
  {
   "cell_type": "code",
   "execution_count": 21,
   "outputs": [
    {
     "name": "stdout",
     "output_type": "stream",
     "text": [
      "Example and number of cleaned data:\n",
      "\n",
      "\n",
      "['Photo Editor & Candy Camera & Grid & ScrapBook', 'ART_AND_DESIGN', '4.1', '159', '19M', '10,000+', 'Free', '0', 'Everyone', 'Art & Design', '7-Jan-18', '1.0.0', '4.0.3 and up']\n",
      "\n",
      "\n",
      "['U Launcher Lite – FREE Live Cool Themes, Hide Apps', 'ART_AND_DESIGN', '4.7', '87510', '8.7M', '5,000,000+', 'Free', '0', 'Everyone', 'Art & Design', '1-Aug-18', '1.2.4', '4.0.3 and up']\n",
      "\n",
      "\n",
      "['Sketch - Draw & Paint', 'ART_AND_DESIGN', '4.5', '215644', '25M', '50,000,000+', 'Free', '0', 'Teen', 'Art & Design', '8-Jun-18', 'Varies with device', '4.2 and up']\n",
      "\n",
      "\n",
      "Number of rows: 9659\n",
      "Number of columns: 13\n"
     ]
    }
   ],
   "source": [
    "cleaned_android = []\n",
    "already_added = []\n",
    "\n",
    "for app in android:\n",
    "    name = app[0]\n",
    "    n_reviews = float(app[3])\n",
    "    if (reviews_max[name] == n_reviews) and (name not in already_added):\n",
    "        cleaned_android.append(app)\n",
    "        already_added.append(name)\n",
    "\n",
    "print('Example and number of cleaned data:')\n",
    "print('\\n')\n",
    "explore_data(cleaned_android, 0, 3, True)\n"
   ],
   "metadata": {
    "collapsed": false,
    "pycharm": {
     "name": "#%%\n"
    }
   }
  },
  {
   "cell_type": "markdown",
   "source": [
    "GET ONLY THE HIGHEST REVIEW IOS APP"
   ],
   "metadata": {
    "collapsed": false,
    "pycharm": {
     "name": "#%% md\n"
    }
   }
  },
  {
   "cell_type": "code",
   "execution_count": 44,
   "outputs": [],
   "source": [
    "reviews_max_ios = {}\n",
    "for app in ios:\n",
    "    name = app[1]\n",
    "    n_reviews = float(app[5])\n",
    "\n",
    "    if name in reviews_max_ios and reviews_max_ios[name] < n_reviews:\n",
    "        reviews_max_ios[name] = n_reviews\n",
    "\n",
    "    elif name not in reviews_max_ios:\n",
    "        reviews_max_ios[name] = n_reviews"
   ],
   "metadata": {
    "collapsed": false,
    "pycharm": {
     "name": "#%%\n"
    }
   }
  },
  {
   "cell_type": "code",
   "execution_count": 45,
   "outputs": [
    {
     "name": "stdout",
     "output_type": "stream",
     "text": [
      "Expected length: 7195\n",
      "Actual length: 7195\n"
     ]
    }
   ],
   "source": [
    "print('Expected length:', len(ios) - 2)\n",
    "print('Actual length:', len(reviews_max_ios))"
   ],
   "metadata": {
    "collapsed": false,
    "pycharm": {
     "name": "#%%\n"
    }
   }
  },
  {
   "cell_type": "code",
   "execution_count": 47,
   "outputs": [
    {
     "name": "stdout",
     "output_type": "stream",
     "text": [
      "Example and number of cleaned ios data:\n",
      "\n",
      "\n",
      "['284882215', 'Facebook', '389879808', 'USD', '0', '2974676', '212', '3.5', '3.5', '95', '4+', 'Social Networking', '37', '1', '29', '1']\n",
      "\n",
      "\n",
      "['389801252', 'Instagram', '113954816', 'USD', '0', '2161558', '1289', '4.5', '4', '10.23', '12+', 'Photo & Video', '37', '0', '29', '1']\n",
      "\n",
      "\n",
      "['529479190', 'Clash of Clans', '116476928', 'USD', '0', '2130805', '579', '4.5', '4.5', '9.24.12', '9+', 'Games', '38', '5', '18', '1']\n",
      "\n",
      "\n",
      "Number of rows: 7195\n",
      "Number of columns: 16\n"
     ]
    }
   ],
   "source": [
    "cleaned_ios = []\n",
    "already_added = []\n",
    "\n",
    "for app in ios:\n",
    "    name = app[1]\n",
    "    n_reviews = float(app[5])\n",
    "    if (reviews_max_ios[name] == n_reviews) and (name not in already_added):\n",
    "        cleaned_ios.append(app)\n",
    "        already_added.append(name)\n",
    "\n",
    "print('Example and number of cleaned ios data:')\n",
    "print('\\n')\n",
    "explore_data(cleaned_ios, 0, 3, True)\n"
   ],
   "metadata": {
    "collapsed": false,
    "pycharm": {
     "name": "#%%\n"
    }
   }
  },
  {
   "cell_type": "markdown",
   "source": [
    "CREATE A FUNCTION TO GET ENGLISH APP\n",
    "When there's more than 3 non-english letters, we'll consider as non-english app"
   ],
   "metadata": {
    "collapsed": false,
    "pycharm": {
     "name": "#%% md\n"
    }
   }
  },
  {
   "cell_type": "code",
   "execution_count": 18,
   "outputs": [],
   "source": [
    "def english(string):\n",
    "    non_ascii = 0\n",
    "    for each in string:\n",
    "        if ord(each) > 127:\n",
    "            non_ascii += 1\n",
    "\n",
    "    if non_ascii > 3:\n",
    "        return False\n",
    "    else:\n",
    "        return True"
   ],
   "metadata": {
    "collapsed": false,
    "pycharm": {
     "name": "#%%\n"
    }
   }
  },
  {
   "cell_type": "markdown",
   "source": [
    "TEST FUNCTION"
   ],
   "metadata": {
    "collapsed": false,
    "pycharm": {
     "name": "#%% md\n"
    }
   }
  },
  {
   "cell_type": "code",
   "execution_count": 19,
   "outputs": [
    {
     "name": "stdout",
     "output_type": "stream",
     "text": [
      "True\n",
      "False\n",
      "True\n",
      "True\n"
     ]
    }
   ],
   "source": [
    "print(english('instagram'))\n",
    "print(english('爱奇艺PPS -《欢乐颂2》电视剧热播'))\n",
    "print(english('Docs To Go™ Free Office Suite'))\n",
    "print(english('Instachat 😜'))"
   ],
   "metadata": {
    "collapsed": false,
    "pycharm": {
     "name": "#%%\n"
    }
   }
  },
  {
   "cell_type": "markdown",
   "source": [
    "GET ENGLISH APP OR ANDROID AND IOS"
   ],
   "metadata": {
    "collapsed": false,
    "pycharm": {
     "name": "#%% md\n"
    }
   }
  },
  {
   "cell_type": "code",
   "execution_count": 48,
   "outputs": [
    {
     "name": "stdout",
     "output_type": "stream",
     "text": [
      "['Photo Editor & Candy Camera & Grid & ScrapBook', 'ART_AND_DESIGN', '4.1', '159', '19M', '10,000+', 'Free', '0', 'Everyone', 'Art & Design', '7-Jan-18', '1.0.0', '4.0.3 and up']\n",
      "\n",
      "\n",
      "['U Launcher Lite – FREE Live Cool Themes, Hide Apps', 'ART_AND_DESIGN', '4.7', '87510', '8.7M', '5,000,000+', 'Free', '0', 'Everyone', 'Art & Design', '1-Aug-18', '1.2.4', '4.0.3 and up']\n",
      "\n",
      "\n",
      "['Sketch - Draw & Paint', 'ART_AND_DESIGN', '4.5', '215644', '25M', '50,000,000+', 'Free', '0', 'Teen', 'Art & Design', '8-Jun-18', 'Varies with device', '4.2 and up']\n",
      "\n",
      "\n",
      "Number of rows: 9614\n",
      "Number of columns: 13\n",
      "\n",
      "\n",
      "['284882215', 'Facebook', '389879808', 'USD', '0', '2974676', '212', '3.5', '3.5', '95', '4+', 'Social Networking', '37', '1', '29', '1']\n",
      "\n",
      "\n",
      "['389801252', 'Instagram', '113954816', 'USD', '0', '2161558', '1289', '4.5', '4', '10.23', '12+', 'Photo & Video', '37', '0', '29', '1']\n",
      "\n",
      "\n",
      "['529479190', 'Clash of Clans', '116476928', 'USD', '0', '2130805', '579', '4.5', '4.5', '9.24.12', '9+', 'Games', '38', '5', '18', '1']\n",
      "\n",
      "\n",
      "Number of rows: 6181\n",
      "Number of columns: 16\n"
     ]
    }
   ],
   "source": [
    "googleplay_english = []\n",
    "appstore_english = []\n",
    "\n",
    "for app in cleaned_android:\n",
    "    name = app[0]\n",
    "    if english(name):\n",
    "        googleplay_english.append(app)\n",
    "\n",
    "for app in cleaned_ios:\n",
    "    name = app[1]\n",
    "    if english(name):\n",
    "        appstore_english.append(app)\n",
    "\n",
    "explore_data(googleplay_english, 0, 3, True)\n",
    "print('\\n')\n",
    "explore_data(appstore_english, 0, 3, True)"
   ],
   "metadata": {
    "collapsed": false,
    "pycharm": {
     "name": "#%%\n"
    }
   }
  },
  {
   "cell_type": "markdown",
   "source": [
    "REMOVE APPS THAT AREN'T FREE\n",
    "Only the one that price = 0"
   ],
   "metadata": {
    "collapsed": false,
    "pycharm": {
     "name": "#%% md\n"
    }
   }
  },
  {
   "cell_type": "code",
   "execution_count": 49,
   "outputs": [
    {
     "name": "stdout",
     "output_type": "stream",
     "text": [
      "android free app: 8864\n",
      "ios free app: 3220\n"
     ]
    }
   ],
   "source": [
    "appstore_free = []\n",
    "googleplay_free = []\n",
    "\n",
    "for app in appstore_english:\n",
    "    app_price = app[4]\n",
    "    if app_price == '0':\n",
    "        appstore_free.append(app)\n",
    "\n",
    "for app in googleplay_english:\n",
    "    app_price = app[7]\n",
    "    if app_price == '0':\n",
    "        googleplay_free.append(app)\n",
    "\n",
    "\n",
    "print('android free app:',len(googleplay_free))\n",
    "print('ios free app:',len(appstore_free))"
   ],
   "metadata": {
    "collapsed": false,
    "pycharm": {
     "name": "#%%\n"
    }
   }
  },
  {
   "cell_type": "markdown",
   "source": [
    "Create a function for generating frequency table and display"
   ],
   "metadata": {
    "collapsed": false,
    "pycharm": {
     "name": "#%% md\n"
    }
   }
  },
  {
   "cell_type": "code",
   "execution_count": 50,
   "outputs": [],
   "source": [
    "def freq_table(dataset, index):\n",
    "    table = {}\n",
    "    total = 0\n",
    "\n",
    "    for row in dataset:\n",
    "        total += 1\n",
    "        value = row[index]\n",
    "        if value in table:\n",
    "            table[value] += 1\n",
    "        else:\n",
    "            table[value] = 1\n",
    "\n",
    "    table_percentages = {}\n",
    "    for key in table:\n",
    "        percentage = (table[key] / total) * 100\n",
    "        table_percentages[key] = percentage\n",
    "\n",
    "    return table_percentages\n",
    "\n",
    "\n",
    "def display_table(dataset, index):\n",
    "    table = freq_table(dataset, index)\n",
    "    table_display = []\n",
    "    for key in table:\n",
    "        key_val_as_tuple = (table[key], key)\n",
    "        table_display.append(key_val_as_tuple)\n",
    "\n",
    "    table_sorted = sorted(table_display, reverse = True)\n",
    "    for entry in table_sorted:\n",
    "        print(entry[1], ':', entry[0])"
   ],
   "metadata": {
    "collapsed": false,
    "pycharm": {
     "name": "#%%\n"
    }
   }
  },
  {
   "cell_type": "markdown",
   "source": [
    "Analyze the frequency table for prime_genre of the App Store data set"
   ],
   "metadata": {
    "collapsed": false,
    "pycharm": {
     "name": "#%% md\n"
    }
   }
  },
  {
   "cell_type": "code",
   "execution_count": 31,
   "outputs": [
    {
     "name": "stdout",
     "output_type": "stream",
     "text": [
      "Games : 58.16263190564867\n",
      "Entertainment : 7.883302296710118\n",
      "Photo & Video : 4.9658597144630665\n",
      "Education : 3.662321539416512\n",
      "Social Networking : 3.2898820608317814\n",
      "Shopping : 2.60707635009311\n",
      "Utilities : 2.5139664804469275\n",
      "Sports : 2.1415270018621975\n",
      "Music : 2.0484171322160147\n",
      "Health & Fitness : 2.0173805090006205\n",
      "Productivity : 1.7380509000620732\n",
      "Lifestyle : 1.5828677839851024\n",
      "News : 1.3345747982619491\n",
      "Travel : 1.2414649286157666\n",
      "Finance : 1.1173184357541899\n",
      "Weather : 0.8690254500310366\n",
      "Food & Drink : 0.8069522036002483\n",
      "Reference : 0.5586592178770949\n",
      "Business : 0.5276225946617008\n",
      "Book : 0.4345127250155183\n",
      "Navigation : 0.186219739292365\n",
      "Medical : 0.186219739292365\n",
      "Catalogs : 0.12414649286157665\n"
     ]
    }
   ],
   "source": [
    "display_table(appstore_free, -5)"
   ],
   "metadata": {
    "collapsed": false,
    "pycharm": {
     "name": "#%%\n"
    }
   }
  },
  {
   "cell_type": "markdown",
   "source": [
    "The most common genre for App Store is Games comprising more than 50% of all apps. Second place fell to Entertainment at 7.9%, follow by Photo&Video at 5% and Education with 3.66% respectively. The general impression is that the educational, productivity, and utility apps are not as commonly developed for the appstore as gaming, entertainment, and photo & video apps. Even though Games have a lot larger slice than other apps, that doesn't truly represent the large number of users."
   ],
   "metadata": {
    "collapsed": false,
    "pycharm": {
     "name": "#%% md\n"
    }
   }
  },
  {
   "cell_type": "markdown",
   "source": [
    "Analyze the frequency table for prime_genre of the App Store data set"
   ],
   "metadata": {
    "collapsed": false,
    "pycharm": {
     "name": "#%% md\n"
    }
   }
  },
  {
   "cell_type": "code",
   "execution_count": 51,
   "outputs": [
    {
     "name": "stdout",
     "output_type": "stream",
     "text": [
      "FAMILY : 18.907942238267147\n",
      "GAME : 9.724729241877256\n",
      "TOOLS : 8.461191335740072\n",
      "BUSINESS : 4.591606498194946\n",
      "LIFESTYLE : 3.9034296028880866\n",
      "PRODUCTIVITY : 3.892148014440433\n",
      "FINANCE : 3.7003610108303246\n",
      "MEDICAL : 3.531137184115524\n",
      "SPORTS : 3.395758122743682\n",
      "PERSONALIZATION : 3.3167870036101084\n",
      "COMMUNICATION : 3.2378158844765346\n",
      "HEALTH_AND_FITNESS : 3.0798736462093865\n",
      "PHOTOGRAPHY : 2.944494584837545\n",
      "NEWS_AND_MAGAZINES : 2.7978339350180503\n",
      "SOCIAL : 2.6624548736462095\n",
      "TRAVEL_AND_LOCAL : 2.33528880866426\n",
      "SHOPPING : 2.2450361010830324\n",
      "BOOKS_AND_REFERENCE : 2.1435018050541514\n",
      "DATING : 1.861462093862816\n",
      "VIDEO_PLAYERS : 1.7937725631768955\n",
      "MAPS_AND_NAVIGATION : 1.3989169675090252\n",
      "FOOD_AND_DRINK : 1.2409747292418771\n",
      "EDUCATION : 1.1620036101083033\n",
      "ENTERTAINMENT : 0.9589350180505415\n",
      "LIBRARIES_AND_DEMO : 0.9363718411552346\n",
      "AUTO_AND_VEHICLES : 0.9250902527075812\n",
      "HOUSE_AND_HOME : 0.8235559566787004\n",
      "WEATHER : 0.8009927797833934\n",
      "EVENTS : 0.7107400722021661\n",
      "PARENTING : 0.6543321299638989\n",
      "ART_AND_DESIGN : 0.6430505415162455\n",
      "COMICS : 0.6204873646209386\n",
      "BEAUTY : 0.5979241877256317\n"
     ]
    }
   ],
   "source": [
    "display_table(googleplay_free, 1)"
   ],
   "metadata": {
    "collapsed": false,
    "pycharm": {
     "name": "#%%\n"
    }
   }
  },
  {
   "cell_type": "markdown",
   "source": [
    "The most common category for Play Store is Family with 19%. Second place fell to Game at 9.7%, follow by Tools at 8.5% and Business with 4.6% respectively. It also appears that apps for family, tools, business, lifestyle, productivity are more popular in the google play store and practical apps have a bigger share than in App Store market."
   ],
   "metadata": {
    "collapsed": false,
    "pycharm": {
     "name": "#%% md\n"
    }
   }
  },
  {
   "cell_type": "markdown",
   "source": [
    "GET THE MOST POPULAR APP FOR IOS"
   ],
   "metadata": {
    "collapsed": false,
    "pycharm": {
     "name": "#%% md\n"
    }
   }
  },
  {
   "cell_type": "code",
   "execution_count": 55,
   "outputs": [
    {
     "name": "stdout",
     "output_type": "stream",
     "text": [
      "Social Networking : 71548.34905660378\n",
      "Photo & Video : 28441.54375\n",
      "Games : 22812.92467948718\n",
      "Music : 57326.530303030304\n",
      "Reference : 74942.11111111111\n",
      "Health & Fitness : 23298.015384615384\n",
      "Weather : 52279.892857142855\n",
      "Utilities : 18684.456790123455\n",
      "Travel : 28243.8\n",
      "Shopping : 26919.690476190477\n",
      "News : 21248.023255813954\n",
      "Navigation : 86090.33333333333\n",
      "Lifestyle : 16485.764705882353\n",
      "Entertainment : 14029.830708661417\n",
      "Food & Drink : 33333.92307692308\n",
      "Sports : 23008.898550724636\n",
      "Book : 39758.5\n",
      "Finance : 31467.944444444445\n",
      "Education : 7003.983050847458\n",
      "Productivity : 21028.410714285714\n",
      "Business : 7491.117647058823\n",
      "Catalogs : 4004.0\n",
      "Medical : 612.0\n"
     ]
    }
   ],
   "source": [
    "genres_ios = freq_table(appstore_free, -5)\n",
    "\n",
    "for genre in genres_ios:\n",
    "    total = 0\n",
    "    len_genre = 0\n",
    "    for app in appstore_free:\n",
    "        genre_app = app[-5]\n",
    "        if genre_app == genre:\n",
    "            n_ratings = float(app[5])\n",
    "            total += n_ratings\n",
    "            len_genre += 1\n",
    "    avg_n_ratings = total / len_genre\n",
    "    print(genre, ':', avg_n_ratings)"
   ],
   "metadata": {
    "collapsed": false,
    "pycharm": {
     "name": "#%%\n"
    }
   }
  },
  {
   "cell_type": "markdown",
   "source": [
    "According to the result navigation apps are the most popular genre with 86,090 average rating, follow by reference at around 75,000 and social networking at 72,000 total ratings"
   ],
   "metadata": {
    "collapsed": false,
    "pycharm": {
     "name": "#%% md\n"
    }
   }
  },
  {
   "cell_type": "markdown",
   "source": [
    "SEE NAME AND TOTAL NUMBER OF USER RATING FOR THE TOP 3 APPS"
   ],
   "metadata": {
    "collapsed": false,
    "pycharm": {
     "name": "#%% md\n"
    }
   }
  },
  {
   "cell_type": "code",
   "execution_count": 59,
   "outputs": [
    {
     "name": "stdout",
     "output_type": "stream",
     "text": [
      "Waze - GPS Navigation, Maps & Real-time Traffic 345046\n",
      "Google Maps - Navigation & Transit 154911\n",
      "Geocaching® 12811\n",
      "CoPilot GPS – Car Navigation & Offline Maps 3582\n",
      "ImmobilienScout24: Real Estate Search in Germany 187\n",
      "Railway Route Search 5\n"
     ]
    }
   ],
   "source": [
    "for app in appstore_free:\n",
    "    name = app[1]\n",
    "    genre = app[-5]\n",
    "    rating_tot = app[5]\n",
    "    if genre == 'Navigation':\n",
    "        print(name, rating_tot)"
   ],
   "metadata": {
    "collapsed": false,
    "pycharm": {
     "name": "#%%\n"
    }
   }
  },
  {
   "cell_type": "code",
   "execution_count": 60,
   "outputs": [
    {
     "name": "stdout",
     "output_type": "stream",
     "text": [
      "Bible 985920\n",
      "Dictionary.com Dictionary & Thesaurus 200047\n",
      "Dictionary.com Dictionary & Thesaurus for iPad 54175\n",
      "Google Translate 26786\n",
      "Muslim Pro: Ramadan 2017 Prayer Times, Azan, Quran 18418\n",
      "New Furniture Mods - Pocket Wiki & Game Tools for Minecraft PC Edition 17588\n",
      "Merriam-Webster Dictionary 16849\n",
      "Night Sky 12122\n",
      "City Maps for Minecraft PE - The Best Maps for Minecraft Pocket Edition (MCPE) 8535\n",
      "LUCKY BLOCK MOD ™ for Minecraft PC Edition - The Best Pocket Wiki & Mods Installer Tools 4693\n",
      "GUNS MODS for Minecraft PC Edition - Mods Tools 1497\n",
      "Guides for Pokémon GO - Pokemon GO News and Cheats 826\n",
      "WWDC 762\n",
      "Horror Maps for Minecraft PE - Download The Scariest Maps for Minecraft Pocket Edition (MCPE) Free 718\n",
      "VPN Express 14\n",
      "Real Bike Traffic Rider Virtual Reality Glasses 8\n",
      "教えて!goo 0\n",
      "Jishokun-Japanese English Dictionary & Translator 0\n"
     ]
    }
   ],
   "source": [
    "for app in appstore_free:\n",
    "    name = app[1]\n",
    "    genre = app[-5]\n",
    "    rating_tot = app[5]\n",
    "    if genre == 'Reference':\n",
    "        print(name, rating_tot)"
   ],
   "metadata": {
    "collapsed": false,
    "pycharm": {
     "name": "#%%\n"
    }
   }
  },
  {
   "cell_type": "code",
   "execution_count": 63,
   "outputs": [
    {
     "name": "stdout",
     "output_type": "stream",
     "text": [
      "Facebook 2974676\n",
      "Pinterest 1061624\n",
      "Skype for iPhone 373519\n",
      "Messenger 351466\n",
      "Tumblr 334293\n",
      "WhatsApp Messenger 287589\n",
      "Kik 260965\n",
      "ooVoo – Free Video Call, Text and Voice 177501\n",
      "TextNow - Unlimited Text + Calls 164963\n",
      "Viber Messenger – Text & Call 164249\n",
      "Followers - Social Analytics For Instagram 112778\n",
      "MeetMe - Chat and Meet New People 97072\n",
      "We Heart It - Fashion, wallpapers, quotes, tattoos 90414\n",
      "InsTrack for Instagram - Analytics Plus More 85535\n",
      "Tango - Free Video Call, Voice and Chat 75412\n",
      "LinkedIn 71856\n",
      "Match™ - #1 Dating App. 60659\n",
      "Skype for iPad 60163\n",
      "POF - Best Dating App for Conversations 52642\n",
      "Timehop 49510\n",
      "Find My Family, Friends & iPhone - Life360 Locator 43877\n",
      "Whisper - Share, Express, Meet 39819\n",
      "Hangouts 36404\n",
      "LINE PLAY - Your Avatar World 34677\n",
      "WeChat 34584\n",
      "Badoo - Meet New People, Chat, Socialize. 34428\n",
      "Followers + for Instagram - Follower Analytics 28633\n",
      "GroupMe 28260\n",
      "Marco Polo Video Walkie Talkie 27662\n",
      "Miitomo 23965\n",
      "SimSimi 23530\n",
      "Grindr - Gay and same sex guys chat, meet and date 23201\n",
      "Wishbone - Compare Anything 20649\n",
      "imo video calls and chat 18841\n",
      "After School - Funny Anonymous School News 18482\n",
      "Quick Reposter - Repost, Regram and Reshare Photos 17694\n",
      "Weibo HD 16772\n",
      "Repost for Instagram 15185\n",
      "Live.me – Live Video Chat & Make Friends Nearby 14724\n",
      "Nextdoor 14402\n",
      "Followers Analytics for Instagram - InstaReport 13914\n",
      "YouNow: Live Stream Video Chat 12079\n",
      "FollowMeter for Instagram - Followers Tracking 11976\n",
      "LINE 11437\n",
      "eHarmony™ Dating App - Meet Singles 11124\n",
      "Discord - Chat for Gamers 9152\n",
      "QQ 9109\n",
      "Telegram Messenger 7573\n",
      "Weibo 7265\n",
      "Periscope - Live Video Streaming Around the World 6062\n",
      "Chat for Whatsapp - iPad Version 5060\n",
      "QQ HD 5058\n",
      "Followers Analysis Tool For Instagram App Free 4253\n",
      "live.ly - live video streaming 4145\n",
      "Houseparty - Group Video Chat 3991\n",
      "SOMA Messenger 3232\n",
      "Monkey 3060\n",
      "Down To Lunch 2535\n",
      "Flinch - Video Chat Staring Contest 2134\n",
      "Highrise - Your Avatar Community 2011\n",
      "LOVOO - Dating Chat 1985\n",
      "PlayStation®Messages 1918\n",
      "BOO! - Video chat camera with filters & stickers 1805\n",
      "Qzone 1649\n",
      "Chatous - Chat with new people 1609\n",
      "Kiwi - Q&A 1538\n",
      "GhostCodes - a discovery app for Snapchat 1313\n",
      "Jodel 1193\n",
      "FireChat 1037\n",
      "Google Duo - simple video calling 1033\n",
      "Fiesta by Tango - Chat & Meet New People 885\n",
      "Google Allo — smart messaging 862\n",
      "Peach — share vividly 727\n",
      "Hey! VINA - Where Women Meet New Friends 719\n",
      "Battlefield™ Companion 689\n",
      "All Devices for WhatsApp - Messenger for iPad 682\n",
      "Chat for Pokemon Go - GoChat 500\n",
      "IAmNaughty – Dating App to Meet New People Online 463\n",
      "Qzone HD 458\n",
      "Zenly - Locate your friends in realtime 427\n",
      "League of Legends Friends 420\n",
      "豆瓣 407\n",
      "Candid - Speak Your Mind Freely 398\n",
      "知乎 397\n",
      "Selfeo 366\n",
      "Fake-A-Location Free ™ 354\n",
      "Popcorn Buzz - Free Group Calls 281\n",
      "Fam — Group video calling for iMessage 279\n",
      "QQ International 274\n",
      "Ameba 269\n",
      "SoundCloud Pulse: for creators 240\n",
      "Tantan 235\n",
      "Cougar Dating & Life Style App for Mature Women 213\n",
      "Rawr Messenger - Dab your chat 180\n",
      "WhenToPost: Best Time to Post Photos for Instagram 158\n",
      "Inke—Broadcast an amazing life 147\n",
      "Mustknow - anonymous video Q&A 53\n",
      "CTFxCmoji 39\n",
      "Lobi 36\n",
      "Chain: Collaborate On MyVideo Story/Group Video 35\n",
      "botman - Real time video chat 7\n",
      "BestieBox 0\n",
      "MATCH ON LINE chat 0\n",
      "niconico ch 0\n",
      "LINE BLOG 0\n",
      "bit-tube - Live Stream Video Chat 0\n"
     ]
    }
   ],
   "source": [
    "for app in appstore_free:\n",
    "    name = app[1]\n",
    "    genre = app[-5]\n",
    "    rating_tot = app[5]\n",
    "    if genre == 'Social Networking':\n",
    "        print(name, rating_tot)"
   ],
   "metadata": {
    "collapsed": false,
    "pycharm": {
     "name": "#%%\n"
    }
   }
  },
  {
   "cell_type": "markdown",
   "source": [
    "In terms of the app profile recommendation on App Store, I would suggest a reference app like something to do with books, dictionary or maybe a translation app. Reference apps are in the second most popular category, and also have less competition in the market. From the perspective above, even though navigation apps and social networking apps are in the top 3 most popular kinds of app, both of them have a really big gap in overall number of users. That means users use just a few apps in these categories, and there's just a small chance for other apps to break into these categories and achieve large scale market penetration."
   ],
   "metadata": {
    "collapsed": false,
    "pycharm": {
     "name": "#%% md\n"
    }
   }
  },
  {
   "cell_type": "markdown",
   "source": [
    "GET THE MOST POPULAR APP FOR ANDROID"
   ],
   "metadata": {
    "collapsed": false,
    "pycharm": {
     "name": "#%% md\n"
    }
   }
  },
  {
   "cell_type": "code",
   "execution_count": 52,
   "outputs": [
    {
     "name": "stdout",
     "output_type": "stream",
     "text": [
      "1,000,000+ : 15.726534296028879\n",
      "100,000+ : 11.552346570397113\n",
      "10,000,000+ : 10.548285198555957\n",
      "10,000+ : 10.198555956678701\n",
      "1,000+ : 8.393501805054152\n",
      "100+ : 6.915613718411552\n",
      "5,000,000+ : 6.825361010830325\n",
      "500,000+ : 5.561823104693141\n",
      "50,000+ : 4.7721119133574\n",
      "5,000+ : 4.512635379061372\n",
      "10+ : 3.5424187725631766\n",
      "500+ : 3.2490974729241873\n",
      "50,000,000+ : 2.3014440433213\n",
      "100,000,000+ : 2.1322202166064983\n",
      "50+ : 1.917870036101083\n",
      "5+ : 0.78971119133574\n",
      "1+ : 0.5076714801444043\n",
      "500,000,000+ : 0.2707581227436823\n",
      "1,000,000,000+ : 0.22563176895306858\n",
      "0+ : 0.04512635379061372\n",
      "0 : 0.01128158844765343\n"
     ]
    }
   ],
   "source": [
    "display_table(googleplay_free, 5)"
   ],
   "metadata": {
    "collapsed": false,
    "pycharm": {
     "name": "#%%\n"
    }
   }
  },
  {
   "cell_type": "markdown",
   "source": [
    "GET NUMBER OF INSTALLED APP BY CATEGORY FOR PLAY STORE"
   ],
   "metadata": {
    "collapsed": false,
    "pycharm": {
     "name": "#%% md\n"
    }
   }
  },
  {
   "cell_type": "code",
   "execution_count": 53,
   "outputs": [
    {
     "name": "stdout",
     "output_type": "stream",
     "text": [
      "ART_AND_DESIGN : 1986335.0877192982\n",
      "AUTO_AND_VEHICLES : 647317.8170731707\n",
      "BEAUTY : 513151.88679245283\n",
      "BOOKS_AND_REFERENCE : 8767811.894736841\n",
      "BUSINESS : 1712290.1474201474\n",
      "COMICS : 817657.2727272727\n",
      "COMMUNICATION : 38456119.167247385\n",
      "DATING : 854028.8303030303\n",
      "EDUCATION : 1833495.145631068\n",
      "ENTERTAINMENT : 11640705.88235294\n",
      "EVENTS : 253542.22222222222\n",
      "FINANCE : 1387692.475609756\n",
      "FOOD_AND_DRINK : 1924897.7363636363\n",
      "HEALTH_AND_FITNESS : 4188821.9853479853\n",
      "HOUSE_AND_HOME : 1331540.5616438356\n",
      "LIBRARIES_AND_DEMO : 638503.734939759\n",
      "LIFESTYLE : 1437816.2687861272\n",
      "GAME : 15588015.603248259\n",
      "FAMILY : 3695641.8198090694\n",
      "MEDICAL : 120550.61980830671\n",
      "SOCIAL : 23253652.127118643\n",
      "SHOPPING : 7036877.311557789\n",
      "PHOTOGRAPHY : 17840110.40229885\n",
      "SPORTS : 3638640.1428571427\n",
      "TRAVEL_AND_LOCAL : 13984077.710144928\n",
      "TOOLS : 10801391.298666667\n",
      "PERSONALIZATION : 5201482.6122448975\n",
      "PRODUCTIVITY : 16787331.344927534\n",
      "PARENTING : 542603.6206896552\n",
      "WEATHER : 5074486.197183099\n",
      "VIDEO_PLAYERS : 24727872.452830188\n",
      "NEWS_AND_MAGAZINES : 9549178.467741935\n",
      "MAPS_AND_NAVIGATION : 4056941.7741935486\n"
     ]
    }
   ],
   "source": [
    "categories_android = freq_table(googleplay_free, 1)\n",
    "\n",
    "for category in categories_android:\n",
    "    total = 0\n",
    "    len_category = 0\n",
    "    for app in googleplay_free:\n",
    "        category_app = app[1]\n",
    "        if category_app == category:\n",
    "            n_installs = app[5]\n",
    "            n_installs = n_installs.replace(',', '')\n",
    "            n_installs = n_installs.replace('+', '')\n",
    "            total += float(n_installs)\n",
    "            len_category += 1\n",
    "    avg_n_installs = total / len_category\n",
    "    print(category, ':', avg_n_installs)"
   ],
   "metadata": {
    "collapsed": false,
    "pycharm": {
     "name": "#%%\n"
    }
   }
  },
  {
   "cell_type": "markdown",
   "source": [
    "According to the results, communication apps have the greatest market share with 38,456,119 installations. The runner-up is social at around 23 million, followed by games at 12 million, entertainment at 12 million, and book & reference at 8.8 million"
   ],
   "metadata": {
    "collapsed": false,
    "pycharm": {
     "name": "#%% md\n"
    }
   }
  },
  {
   "cell_type": "code",
   "execution_count": 58,
   "outputs": [
    {
     "name": "stdout",
     "output_type": "stream",
     "text": [
      "WhatsApp Messenger 1,000,000,000+\n",
      "Messenger for SMS 10,000,000+\n",
      "My Tele2 5,000,000+\n",
      "imo beta free calls and text 100,000,000+\n",
      "Contacts 50,000,000+\n",
      "Call Free – Free Call 5,000,000+\n",
      "Web Browser & Explorer 5,000,000+\n",
      "Browser 4G 10,000,000+\n",
      "MegaFon Dashboard 10,000,000+\n",
      "ZenUI Dialer & Contacts 10,000,000+\n",
      "Cricket Visual Voicemail 10,000,000+\n",
      "TracFone My Account 1,000,000+\n",
      "Xperia Link™ 10,000,000+\n",
      "TouchPal Keyboard - Fun Emoji & Android Keyboard 10,000,000+\n",
      "Skype Lite - Free Video Call & Chat 5,000,000+\n",
      "My magenta 1,000,000+\n",
      "Android Messages 100,000,000+\n",
      "Google Duo - High Quality Video Calls 500,000,000+\n",
      "Seznam.cz 1,000,000+\n",
      "Antillean Gold Telegram (original version) 100,000+\n",
      "AT&T Visual Voicemail 10,000,000+\n",
      "GMX Mail 10,000,000+\n",
      "Omlet Chat 10,000,000+\n",
      "My Vodacom SA 5,000,000+\n",
      "Microsoft Edge 5,000,000+\n",
      "Messenger – Text and Video Chat for Free 1,000,000,000+\n",
      "imo free video calls and chat 500,000,000+\n",
      "Calls & Text by Mo+ 5,000,000+\n",
      "free video calls and chat 50,000,000+\n",
      "Skype - free IM & video calls 1,000,000,000+\n",
      "Who 100,000,000+\n",
      "GO SMS Pro - Messenger, Free Themes, Emoji 100,000,000+\n",
      "Messaging+ SMS, MMS Free 1,000,000+\n",
      "chomp SMS 10,000,000+\n",
      "Glide - Video Chat Messenger 10,000,000+\n",
      "Text SMS 10,000,000+\n",
      "Talkray - Free Calls & Texts 10,000,000+\n",
      "LINE: Free Calls & Messages 500,000,000+\n",
      "GroupMe 10,000,000+\n",
      "mysms SMS Text Messaging Sync 1,000,000+\n",
      "2ndLine - Second Phone Number 1,000,000+\n",
      "Google Chrome: Fast & Secure 1,000,000,000+\n",
      "Firefox Browser fast & private 100,000,000+\n",
      "Ninesky Browser 1,000,000+\n",
      "Dolphin Browser - Fast, Private & Adblock🐬 50,000,000+\n",
      "UC Browser - Fast Download Private & Secure 500,000,000+\n",
      "Ghostery Privacy Browser 1,000,000+\n",
      "InBrowser - Incognito Browsing 1,000,000+\n",
      "Lightning Web Browser 500,000+\n",
      "Web Browser 500,000+\n",
      "Contacts+ 10,000,000+\n",
      "ExDialer - Dialer & Contacts 10,000,000+\n",
      "PHONE for Google Voice & GTalk 1,000,000+\n",
      "Safest Call Blocker 1,000,000+\n",
      "Full Screen Caller ID 5,000,000+\n",
      "Hiya - Caller ID & Block 10,000,000+\n",
      "Mr. Number-Block calls & spam 10,000,000+\n",
      "Should I Answer? 1,000,000+\n",
      "RocketDial Dialer & Contacts 1,000,000+\n",
      "CIA - Caller ID & Call Blocker 5,000,000+\n",
      "Calls Blacklist - Call Blocker 10,000,000+\n",
      "Call Control - Call Blocker 5,000,000+\n",
      "True Contact - Real Caller ID 1,000,000+\n",
      "Video Caller Id 1,000,000+\n",
      "Sync.ME – Caller ID & Block 5,000,000+\n",
      "Burner - Free Phone Number 1,000,000+\n",
      "Caller ID + 1,000,000+\n",
      "Gmail 1,000,000,000+\n",
      "K-9 Mail 5,000,000+\n",
      "myMail – Email for Hotmail, Gmail and Outlook Mail 10,000,000+\n",
      "Email TypeApp - Mail App 1,000,000+\n",
      "All Email Providers 1,000,000+\n",
      "Newton Mail - Email App for Gmail, Outlook, IMAP 1,000,000+\n",
      "GO Notifier 10,000,000+\n",
      "Mail.Ru - Email App 50,000,000+\n",
      "Mail1Click - Secure Mail 10,000+\n",
      "Daum Mail - Next Mail 5,000,000+\n",
      "mail.com mail 1,000,000+\n",
      "SolMail - All-in-One email app 500,000+\n",
      "Hangouts 1,000,000,000+\n",
      "Vonage Mobile® Call Video Text 1,000,000+\n",
      "JusTalk - Free Video Calls and Fun Video Chat 5,000,000+\n",
      "Azar 50,000,000+\n",
      "LokLok: Draw on a Lock Screen 500,000+\n",
      "Discord - Chat for Gamers 10,000,000+\n",
      "Messenger Lite: Free Calls & Messages 100,000,000+\n",
      "AntennaPict β 1,000,000+\n",
      "Talkatone: Free Texts, Calls & Phone Number 10,000,000+\n",
      "Kik 100,000,000+\n",
      "K-@ Mail - Email App 100,000+\n",
      "KakaoTalk: Free Calls & Text 100,000,000+\n",
      "K-9 Material (unofficial) 5,000+\n",
      "M star Dialer 100,000+\n",
      "Free WiFi Connect 10,000,000+\n",
      "m:go BiH 10,000+\n",
      "N-Com Wizard 50,000+\n",
      "Opera Mini - fast web browser 100,000,000+\n",
      "Opera Browser: Fast and Secure 100,000,000+\n",
      "Opera Mini browser beta 10,000,000+\n",
      "Psiphon Pro - The Internet Freedom VPN 10,000,000+\n",
      "ICQ — Video Calls & Chat Messenger 10,000,000+\n",
      "Telegram 100,000,000+\n",
      "AT&T Messages for Tablet 1,000,000+\n",
      "T-Mobile DIGITS 100,000+\n",
      "Truecaller: Caller ID, SMS spam blocking & Dialer 100,000,000+\n",
      "Portable Wi-Fi hotspot 10,000,000+\n",
      "AT&T Call Protect 5,000,000+\n",
      "U - Webinars, Meetings & Messenger 500,000+\n",
      "UC Browser Mini -Tiny Fast Private & Secure 100,000,000+\n",
      "/u/app 10,000+\n",
      "[verify-U] VideoIdent 10,000+\n",
      "Viber Messenger 500,000,000+\n",
      "WeChat 100,000,000+\n",
      "WhatsApp Business 10,000,000+\n",
      "WhatsCall Free Global Phone Call App & Cheap Calls 10,000,000+\n",
      "X Browser 50,000+\n",
      "Yahoo Mail – Stay Organized 100,000,000+\n",
      "Free Adblocker Browser - Adblock & Popup Blocker 10,000,000+\n",
      "Adblock Browser for Android 10,000,000+\n",
      "CM Browser - Ad Blocker , Fast Download , Privacy 50,000,000+\n",
      "Adblock Plus for Samsung Internet - Browse safe. 1,000,000+\n",
      "Ad Blocker Turbo - Adblocker Browser 10,000+\n",
      "Brave Browser: Fast AdBlocker 5,000,000+\n",
      "AG Contacts, Lite edition 5,000+\n",
      "Oklahoma Ag Co-op Council 10+\n",
      "Bee'ah Employee App 100+\n",
      "tournaments and more.aj.2 100+\n",
      "Aj.Petra 100+\n",
      "AK Phone 5,000+\n",
      "PlacarTv Futebol Ao Vivo 100,000+\n",
      "WiFi Access Point (hotspot) 100,000+\n",
      "Access Point Names 10,000+\n",
      "Puffin Web Browser 10,000,000+\n",
      "ClanHQ 10,000+\n",
      "Ear Agent: Super Hearing 5,000,000+\n",
      "Google Voice 10,000,000+\n",
      "Google Allo 10,000,000+\n",
      "AU Call Blocker - Block Unwanted Calls Texts 2018 1,000+\n",
      "Baby Monitor AV 100,000+\n",
      "AV Phone 1,000+\n",
      "AW - free video calls and chat 1,000,000+\n",
      "Katalogen.ax 100+\n",
      "AZ Browser. Private & Download 100,000+\n",
      "BA SALES 1+\n",
      "BD Data Plan (3G & 4G) 500,000+\n",
      "BD Internet Packages (Updated) 50,000+\n",
      "BD Dialer 10,000+\n",
      "BD Live Call 5,000+\n",
      "Best Browser BD social networking 10+\n",
      "Traffic signs BD 500+\n",
      "BF Browser by Betfilter - Stop Gambling Today! 10,000+\n",
      "My BF App 50,000+\n",
      "BH Mail 1,000+\n",
      "Zalo – Video Call 50,000,000+\n",
      "BJ - Confidential 10+\n",
      "BK Chat 1,000+\n",
      "Of the wall Arapaho bk 5+\n",
      "AC-BL 50+\n",
      "BBM - Free Calls & Messages 100,000,000+\n",
      "DMR BrandMeister Tool 10,000+\n",
      "BBMoji - Your personalized BBM Stickers 1,000,000+\n",
      "BN MALLORCA Radio 1,000+\n",
      "BQ Partners 1,000+\n",
      "BS-Mobile 50+\n",
      "ATC Unico BS 500+\n",
      "BT One Voice mobile access 5,000+\n",
      "BT Messenger 50,000+\n",
      "BT One Phone Mobile App 10,000+\n",
      "SW-100.tch by Callstel 1,000,000+\n",
      "BT MeetMe with Dolby Voice 100,000+\n",
      "Bluetooth Auto Connect 5,000,000+\n",
      "AudioBT: BT audio GPS/SMS/Text 50,000+\n",
      "BV 100+\n",
      "Feel Performer 10,000+\n",
      "Tiny Call Confirm 1,000,000+\n",
      "CB Radio Chat - for friends! 1,000,000+\n",
      "CB On Mobile 100,000+\n",
      "Virtual Walkie Talkie 1,000,000+\n",
      "Channel 19 100,000+\n",
      "Cb browser 50+\n",
      "CF Chat: Connecting Friends 100+\n",
      "retteMi.ch 5,000+\n",
      "Chrome Dev 5,000,000+\n",
      "CJ Browser - Fast & Private 100+\n",
      "CJ DVD Rentals 100+\n",
      "CK Call NEW 10+\n",
      "CM Transfer - Share any files with friends nearby 5,000,000+\n",
      "mail.co.uk Mail 5,000+\n",
      "ClanPlay: Community and Tools for Gamers 1,000,000+\n",
      "CQ-Mobile 1,000+\n",
      "CQ-Alert 500+\n",
      "QRZ Assistant 100,000+\n",
      "Pocket Prefix Plus 10,000+\n",
      "Ham Radio Prefixes 10,000+\n",
      "CS Customizer 1,000+\n",
      "CS Browser | #1 & BEST BROWSER 1,000+\n",
      "CS Browser Beta 5,000+\n",
      "My Vodafone (GR) 1,000,000+\n",
      "IZ2UUF Morse Koch CW 50,000+\n",
      "C W Browser 100+\n",
      "CW Bluetooth SPP 100+\n",
      "CW BLE Peripheral Simulator 500+\n",
      "Morse Code Reader 100,000+\n",
      "Learn Morse Code - G0HYN Learn Morse 5,000+\n",
      "Ring 10,000+\n",
      "Hyundai CX Conference 50+\n",
      "Cy Messenger 100+\n",
      "Amadeus GR & CY 100+\n",
      "Hlášenírozhlasu.cz 10+\n",
      "SMS Sender - sluzba.cz 1,000+\n",
      "WEB.DE Mail 10,000,000+\n",
      "Your Freedom VPN Client 5,000,000+\n",
      "CallApp: Caller ID, Blocker & Phone Call Recorder 10,000,000+\n",
      "Rádio Sol Nascente DF 500+\n",
      "DG Card 100+\n",
      "Whoscall - Caller ID & Block 10,000,000+\n",
      "DK Browser 10+\n",
      "cluster.dk 1,000+\n",
      "DK TEL Dialer 50+\n",
      "DM for WhatsApp 5,000+\n",
      "DM Talk New 5,000+\n",
      "DM - The Offical Messaging App 10+\n",
      "DM Tracker 1,000+\n",
      "Call Blocker & Blacklist 1,000+\n",
      "ReadyOp DT 1,000+\n",
      "DU Browser—Browse fast & fun 10,000,000+\n",
      "Caller ID & Call Block - DU Caller 5,000,000+\n",
      "BlueDV AMBE 1,000+\n",
      "DW Contacts & Phone & Dialer 1,000,000+\n",
      "Deaf World DW 10,000+\n",
      "Ham DX Cluster & Spots Finder 5,000+\n",
      "Mircules DX Cluster Lite 5,000+\n",
      "3G DZ Configuration 50,000+\n",
      "chat dz 100+\n",
      "love sms good morning 5,000+\n",
      "Goodbox - Mega App 100,000+\n",
      "Call Blocker - Blacklist, SMS Blocker 1,000,000+\n",
      "[EF]ShoutBox 100+\n",
      "Eg Call 10,000+\n",
      "ei 10+\n",
      "EJ messenger 10+\n",
      "Ek IRA 10+\n",
      "Orfox: Tor Browser for Android 10,000,000+\n",
      "EO Mumbai 10+\n",
      "EP RSS Reader 100+\n",
      "Voxer Walkie Talkie Messenger 10,000,000+\n",
      "ES-1 500+\n",
      "Hangouts Dialer - Call Phones 10,000,000+\n",
      "EU Council 1,000+\n",
      "Council Voting Calculator 5,000+\n",
      "Have your say on Europe 500+\n",
      "Programi podrške EU 100+\n",
      "Inbox.eu 10,000+\n",
      "Web Browser for Android 1,000,000+\n",
      "Everbridge 100,000+\n",
      "Best Auto Call Recorder Free 500+\n",
      "EZ Wifi Notification 10,000+\n",
      "Test Server SMS FA 5+\n",
      "Lite for Facebook Messenger 1,000,000+\n",
      "FC Browser - Focus Privacy Browser 1,000+\n",
      "EHiN-FH conferenceapp 100+\n",
      "Carpooling FH Hagenberg 100+\n",
      "Wi-Fi Auto-connect 1,000,000+\n",
      "Talkie - Wi-Fi Calling, Chats, File Sharing 500,000+\n",
      "WeFi - Free Fast WiFi Connect & Find Wi-Fi Map 1,000,000+\n",
      "Sat-Fi 5,000+\n",
      "Portable Wi-Fi hotspot Free 100,000+\n",
      "TownWiFi | Wi-Fi Everywhere 500,000+\n",
      "Jazz Wi-Fi 10,000+\n",
      "Sat-Fi Voice 1,000+\n",
      "Free Wi-fi HotspoT 50,000+\n",
      "FN Web Radio 10+\n",
      "FNH Payment Info 10+\n",
      "MARKET FO 100+\n",
      "FO OP St-Nazaire 100+\n",
      "FO SODEXO 100+\n",
      "FO RCBT 100+\n",
      "FO Interim 100+\n",
      "FO PSA Sept-Fons 100+\n",
      "FO AIRBUS TLSE 1,000+\n",
      "FO STELIA Méaulte 100+\n",
      "FO AIRBUS Nantes 100+\n",
      "Firefox Focus: The privacy browser 1,000,000+\n",
      "FP Connect 100+\n",
      "FreedomPop Messaging Phone/SIM 500,000+\n",
      "FP Live 10+\n",
      "HipChat - beta version 50,000+\n"
     ]
    }
   ],
   "source": [
    "for app in googleplay_free:\n",
    "    name = app[0]\n",
    "    category = app[1]\n",
    "    install = app[5]\n",
    "    if category == 'COMMUNICATION':\n",
    "        print(name, install)"
   ],
   "metadata": {
    "collapsed": false,
    "pycharm": {
     "name": "#%%\n"
    }
   }
  },
  {
   "cell_type": "markdown",
   "source": [
    "For the app profile recommendation on Play Store, I would recommend either an entertainment app or a book & reference app for the reason that both of them are in the top 5 most popular apps, but there is still comparatively less competition than in other categories. From the result above, even though communication app has the biggest chunk of the pie (as well as social which in the similar category), there is a big gap in number of users. There are just a few communication apps to have reached one billion users, while a lot of them there are just a few thousand downloads."
   ],
   "metadata": {
    "collapsed": false,
    "pycharm": {
     "name": "#%% md\n"
    }
   }
  }
 ],
 "metadata": {
  "kernelspec": {
   "display_name": "Python 3",
   "language": "python",
   "name": "python3"
  },
  "language_info": {
   "codemirror_mode": {
    "name": "ipython",
    "version": 2
   },
   "file_extension": ".py",
   "mimetype": "text/x-python",
   "name": "python",
   "nbconvert_exporter": "python",
   "pygments_lexer": "ipython2",
   "version": "2.7.6"
  }
 },
 "nbformat": 4,
 "nbformat_minor": 0
}